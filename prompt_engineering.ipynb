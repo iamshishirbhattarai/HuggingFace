{
  "cells": [
    {
      "cell_type": "code",
      "execution_count": null,
      "metadata": {
        "colab": {
          "base_uri": "https://localhost:8080/"
        },
        "id": "cis9Gj6L3EGd",
        "outputId": "6b4d5d60-498d-49fe-d9f9-c7c035ea6fb5"
      },
      "outputs": [],
      "source": [
        "!pip install transformers==4.48.0"
      ]
    },
    {
      "cell_type": "markdown",
      "metadata": {
        "id": "gZq4cY1sslK9"
      },
      "source": [
        "## Loading a Text Generation Model"
      ]
    },
    {
      "cell_type": "code",
      "execution_count": null,
      "metadata": {
        "colab": {
          "base_uri": "https://localhost:8080/",
          "height": 152,
          "referenced_widgets": [
            "ee3015d1c3ff4944ac60d407a2905358",
            "00df37d23eeb471ca3a84d381b52e928",
            "799e29bc14364b278d6ffd01ed2af831",
            "f126bbb4a52a4df3b7094c334fce8e46",
            "4e8e850244ae437d85f5e209ac5bb5de",
            "358b82806e3642ef8553e40e68526d16",
            "4679f5eea161494db6bc60aeedd94249",
            "778638fa45e54d7c88c7688f7013d9da",
            "998d81fcedd345eaa3932b3accc69efd",
            "eb6fdf2bbaf34aabb42635e712cdbf94",
            "f70469f6feee43358edb4612eb21b533",
            "411ffacc23904ee592a5fd5c23dbf919",
            "aeb45e45ce474c4d9da45c1c80d7214b",
            "503bb6c49ca747ac9385a80fd3950944",
            "9a72ae35060b4c53b36aacee50f6d4a0",
            "a5162cc2418e4981ba33fb236f1ac8b9",
            "881b1611fdde4a75bac2427bf968c988",
            "1f33432c37574f6081fac6704e49a908",
            "2ddb7501f7724c78b02de9595f820605",
            "617b294b12ff4190ae30d2acebaf8650",
            "a5c1a148cc2249a6b9b66fe437df3379",
            "894cc1eb382f46e1acf0a5ac94dc80bd"
          ]
        },
        "id": "TTJ3ULPur8Gm",
        "outputId": "73caf114-7333-4c9e-820e-4b84ca48bbe2"
      },
      "outputs": [
        {
          "name": "stderr",
          "output_type": "stream",
          "text": [
            "The cache for model files in Transformers v4.22.0 has been updated. Migrating your old cache. This is a one-time only operation. You can interrupt this and resume the migration later on by calling `transformers.utils.move_cache()`.\n"
          ]
        },
        {
          "data": {
            "application/vnd.jupyter.widget-view+json": {
              "model_id": "ee3015d1c3ff4944ac60d407a2905358",
              "version_major": 2,
              "version_minor": 0
            },
            "text/plain": [
              "0it [00:00, ?it/s]"
            ]
          },
          "metadata": {},
          "output_type": "display_data"
        },
        {
          "name": "stderr",
          "output_type": "stream",
          "text": [
            "WARNING:transformers_modules.microsoft.Phi-3-mini-4k-instruct.0a67737cc96d2554230f90338b163bc6380a2a85.modeling_phi3:`flash-attention` package not found, consider installing for better performance: No module named 'flash_attn'.\n",
            "WARNING:transformers_modules.microsoft.Phi-3-mini-4k-instruct.0a67737cc96d2554230f90338b163bc6380a2a85.modeling_phi3:Current `flash-attention` does not support `window_size`. Either upgrade or use `attn_implementation='eager'`.\n"
          ]
        },
        {
          "data": {
            "application/vnd.jupyter.widget-view+json": {
              "model_id": "411ffacc23904ee592a5fd5c23dbf919",
              "version_major": 2,
              "version_minor": 0
            },
            "text/plain": [
              "Loading checkpoint shards:   0%|          | 0/2 [00:00<?, ?it/s]"
            ]
          },
          "metadata": {},
          "output_type": "display_data"
        }
      ],
      "source": [
        "import torch\n",
        "from transformers import AutoModelForCausalLM, AutoTokenizer, pipeline\n",
        "\n",
        "model = AutoModelForCausalLM.from_pretrained(\n",
        "    'microsoft/Phi-3-mini-4k-instruct',\n",
        "    torch_dtype='auto',\n",
        "    trust_remote_code=True,\n",
        ")\n",
        "tokenizer = AutoTokenizer.from_pretrained('microsoft/Phi-3-mini-4k-instruct')"
      ]
    },
    {
      "cell_type": "code",
      "execution_count": null,
      "metadata": {
        "colab": {
          "base_uri": "https://localhost:8080/"
        },
        "id": "lTTUFFxOtDLZ",
        "outputId": "2702d215-9dbd-4e53-9142-8ae0ad2c7745"
      },
      "outputs": [
        {
          "name": "stderr",
          "output_type": "stream",
          "text": [
            "Device set to use cuda:0\n"
          ]
        }
      ],
      "source": [
        "pipe = pipeline(\n",
        "    'text-generation',\n",
        "    model=model,\n",
        "    tokenizer=tokenizer,\n",
        "    return_full_text=False,\n",
        "    max_new_tokens=500,\n",
        "    do_sample=False\n",
        ")"
      ]
    },
    {
      "cell_type": "code",
      "execution_count": null,
      "metadata": {
        "colab": {
          "base_uri": "https://localhost:8080/"
        },
        "id": "nJS_wb8Cf-_K",
        "outputId": "9a37edd5-168f-4b55-c784-0b18a34c38ea"
      },
      "outputs": [
        {
          "name": "stdout",
          "output_type": "stream",
          "text": [
            "4.48.0\n"
          ]
        }
      ],
      "source": [
        "import transformers\n",
        "print(transformers.__version__)"
      ]
    },
    {
      "cell_type": "markdown",
      "metadata": {
        "id": "eP27G31OvH_4"
      },
      "source": [
        "### Let's see a sample generation"
      ]
    },
    {
      "cell_type": "code",
      "execution_count": null,
      "metadata": {
        "colab": {
          "base_uri": "https://localhost:8080/"
        },
        "id": "oxG0GIq5tiG6",
        "outputId": "d99b2c64-b31a-4813-f209-a2da4effa0d7"
      },
      "outputs": [
        {
          "name": "stderr",
          "output_type": "stream",
          "text": [
            "The `seen_tokens` attribute is deprecated and will be removed in v4.41. Use the `cache_position` model input instead.\n",
            "`get_max_cache()` is deprecated for all Cache classes. Use `get_max_cache_shape()` instead. Calling `get_max_cache()` will raise error from v4.48\n",
            "WARNING:transformers_modules.microsoft.Phi-3-mini-4k-instruct.0a67737cc96d2554230f90338b163bc6380a2a85.modeling_phi3:You are not running the flash-attention implementation, expect numerical differences.\n"
          ]
        },
        {
          "name": "stdout",
          "output_type": "stream",
          "text": [
            " Why don't monkeys use computers? Because they're afraid of the \"keyboard\" monkey!\n"
          ]
        }
      ],
      "source": [
        "messages = [\n",
        "    {'role': 'user', 'content': 'Create a funny joke about monkey.'}\n",
        "]\n",
        "\n",
        "output = pipe(messages)\n",
        "print(output[0]['generated_text'])"
      ]
    },
    {
      "cell_type": "markdown",
      "metadata": {
        "id": "1AZ4sxYvuKXM"
      },
      "source": [
        "Here, **transformers.pipeline** initially converts the provided message into a specific prompt template. Let's see what it converts to.."
      ]
    },
    {
      "cell_type": "code",
      "execution_count": null,
      "metadata": {
        "colab": {
          "base_uri": "https://localhost:8080/"
        },
        "id": "KzIjuj-ztztw",
        "outputId": "79f8985e-1340-463e-e8f2-558b3556f441"
      },
      "outputs": [
        {
          "name": "stdout",
          "output_type": "stream",
          "text": [
            "<|user|>\n",
            "Create a funny joke about monkey.<|end|>\n",
            "<|endoftext|>\n"
          ]
        }
      ],
      "source": [
        "prompt = pipe.tokenizer.apply_chat_template(messages, tokenize=False)\n",
        "print(prompt)"
      ]
    },
    {
      "cell_type": "markdown",
      "metadata": {
        "id": "Z5VgYcJwvLwD"
      },
      "source": [
        "**Temperature** can be used to control the randomness or creativity of the text generated. Zero temperature likely chooses the most likely word (deterministic output) whereas the higher temperature (e.g., 0.8) generates results diverse output."
      ]
    },
    {
      "cell_type": "code",
      "execution_count": null,
      "metadata": {
        "colab": {
          "base_uri": "https://localhost:8080/"
        },
        "id": "-_1Iwc7vuDmv",
        "outputId": "8e461527-5f7d-4997-db74-58d39b34a337"
      },
      "outputs": [
        {
          "name": "stdout",
          "output_type": "stream",
          "text": [
            " Why don't we ever trust an oatmeal monkey? Because it's always rustling from tip to tail!\n"
          ]
        }
      ],
      "source": [
        "output = pipe(messages,\n",
        "              do_sample=True,\n",
        "              temperature=1)\n",
        "print(output[0]['generated_text'])"
      ]
    },
    {
      "cell_type": "markdown",
      "metadata": {
        "id": "IH-5sIMY11rX"
      },
      "source": [
        "Each time we run the above cell, we're supposed to get different outputs due to the higher **temperature** set."
      ]
    },
    {
      "cell_type": "markdown",
      "metadata": {
        "id": "5G5XE9o94oj-"
      },
      "source": [
        "## Zero Shot Prompt"
      ]
    },
    {
      "cell_type": "code",
      "execution_count": null,
      "metadata": {
        "id": "fsGvIi8G1-zr"
      },
      "outputs": [],
      "source": [
        "zero_shot_prompt = [\n",
        "    {\n",
        "        'role': 'user',\n",
        "        'content': 'What is the capital of France?'\n",
        "    }\n",
        "]"
      ]
    },
    {
      "cell_type": "code",
      "execution_count": null,
      "metadata": {
        "colab": {
          "base_uri": "https://localhost:8080/"
        },
        "id": "sEUyw6op5BUj",
        "outputId": "62c627a8-52be-48ca-be42-fb5429ba37ae"
      },
      "outputs": [
        {
          "name": "stdout",
          "output_type": "stream",
          "text": [
            " The capital of France is Paris. It is not only the country's largest city but also its administrative, commercial, and cultural center. Paris is known for its historical landmarks such as the Eiffel Tower, Notre-Dame Cathedral, and the Louvre Museum, which is the world's largest art museum and a historic monument in Paris.\n"
          ]
        }
      ],
      "source": [
        "print(pipe(zero_shot_prompt, do_sample=False)[0]['generated_text'])"
      ]
    },
    {
      "cell_type": "markdown",
      "metadata": {
        "id": "DuDtfZWz5Rrw"
      },
      "source": [
        "Let's strict this within one sentence output."
      ]
    },
    {
      "cell_type": "code",
      "execution_count": null,
      "metadata": {
        "id": "egAL6tiT5Mxs"
      },
      "outputs": [],
      "source": [
        "zero_shot_prompt = [\n",
        "    {\n",
        "        'role': 'user',\n",
        "        'content': 'What is the capital of France? Provide answer in just one sentence'\n",
        "    }\n",
        "]"
      ]
    },
    {
      "cell_type": "code",
      "execution_count": null,
      "metadata": {
        "colab": {
          "base_uri": "https://localhost:8080/"
        },
        "id": "-QExN3ry5ll-",
        "outputId": "f8c92ce3-8aad-47bb-fe4e-9978eb050b98"
      },
      "outputs": [
        {
          "name": "stdout",
          "output_type": "stream",
          "text": [
            " The capital of France is Paris.\n"
          ]
        }
      ],
      "source": [
        "print(pipe(zero_shot_prompt, do_sample=False)[0]['generated_text'])"
      ]
    },
    {
      "cell_type": "markdown",
      "metadata": {
        "id": "GGcWVnIV5ryg"
      },
      "source": [
        "## One Shot Prompt"
      ]
    },
    {
      "cell_type": "code",
      "execution_count": null,
      "metadata": {
        "id": "kePHH-PA5m-T"
      },
      "outputs": [],
      "source": [
        "one_shot_prompt = [\n",
        "    {\n",
        "        'role': 'user',\n",
        "        'content': \"What is the capital of France?\"\n",
        "    },\n",
        "    {\n",
        "        'role': 'assistant',\n",
        "        'content': 'Paris is the capital of France.'\n",
        "    },\n",
        "    {\n",
        "        'role': 'user',\n",
        "        'content': 'What is the capital of Nepal?'\n",
        "    }\n",
        "]"
      ]
    },
    {
      "cell_type": "code",
      "execution_count": null,
      "metadata": {
        "colab": {
          "base_uri": "https://localhost:8080/"
        },
        "id": "OVCfKT9z6Ew4",
        "outputId": "407970e1-9c10-4ea9-c074-3c0ceccc218b"
      },
      "outputs": [
        {
          "name": "stdout",
          "output_type": "stream",
          "text": [
            " Kathmandu is the capital of Nepal.\n"
          ]
        }
      ],
      "source": [
        "print(pipe(one_shot_prompt, do_sample=False)[0]['generated_text'])"
      ]
    },
    {
      "cell_type": "markdown",
      "metadata": {
        "id": "LJl4Mq_M6bRI"
      },
      "source": [
        "Similarly, we can use **Few-shot prompt** to provide few examples, and expect similar output."
      ]
    },
    {
      "cell_type": "markdown",
      "metadata": {
        "id": "WYzG6Jw1ilx5"
      },
      "source": [
        "## Chain Prompting"
      ]
    },
    {
      "cell_type": "code",
      "execution_count": null,
      "metadata": {
        "colab": {
          "base_uri": "https://localhost:8080/"
        },
        "id": "a-w9roBW6j_N",
        "outputId": "e616a31b-47ee-4d47-e384-c6ad80170df1"
      },
      "outputs": [
        {
          "name": "stdout",
          "output_type": "stream",
          "text": [
            " Name: ChatSage\n",
            "Slogan: \"Unleashing the Power of Conversation with ChatSage\"\n"
          ]
        }
      ],
      "source": [
        "# Create name and slogan for a product\n",
        "product_prompt = [\n",
        "    {\n",
        "        'role': 'user', 'content': 'Create a name and slogan for a chatbot that leverages LLMs'\n",
        "    }\n",
        "]\n",
        "outputs = pipe(product_prompt)\n",
        "product_description = outputs[0]['generated_text']\n",
        "print(product_description)"
      ]
    },
    {
      "cell_type": "code",
      "execution_count": null,
      "metadata": {
        "colab": {
          "base_uri": "https://localhost:8080/"
        },
        "id": "_r_Z8hXVjHNb",
        "outputId": "ce719989-c0ee-4ebc-b2e4-07b88b626537"
      },
      "outputs": [
        {
          "name": "stdout",
          "output_type": "stream",
          "text": [
            " Introducing ChatSage, the ultimate conversation companion that unlocks the power of communication. With our innovative technology, you can effortlessly connect with others, express your thoughts, and build meaningful relationships. Experience the freedom of conversation like never before with ChatSage. Unleash the power of conversation with ChatSage today!\n"
          ]
        }
      ],
      "source": [
        "sales_prompt = [\n",
        "    {\n",
        "        \"role\": \"user\", \"content\": f\"Generate a very short sales pitch for the following product : '{product_description}'\"}\n",
        "]\n",
        "\n",
        "outputs = pipe(sales_prompt)\n",
        "sales_pitch = outputs[0]['generated_text']\n",
        "print(sales_pitch)"
      ]
    },
    {
      "cell_type": "markdown",
      "metadata": {
        "id": "1gNdOdvYk4Pp"
      },
      "source": [
        "## Chain of thought"
      ]
    },
    {
      "cell_type": "code",
      "execution_count": null,
      "metadata": {
        "colab": {
          "base_uri": "https://localhost:8080/"
        },
        "id": "rDRWy-G6k6IZ",
        "outputId": "83966b17-9919-4e64-ddf3-1982f1bdec3c"
      },
      "outputs": [
        {
          "name": "stdout",
          "output_type": "stream",
          "text": [
            " The cafeteria started with 23 apples. They used 20 apples for lunch, so they had 23 - 20 = 3 apples left. After buying 6 more apples, they now have 3 + 6 = 9 apples. The answer is 9.\n"
          ]
        }
      ],
      "source": [
        "cot_prompt = [\n",
        "      {\"role\": \"user\", \"content\": \"Roger has 5 tennis balls. He buys 2 more cans of tennis balls. Each can has 3 tennis balls. How many tennis balls does he have now?\"},\n",
        "      {\"role\": \"assistant\", \"content\": \"Roger started with 5 balls. 2 cans of 3 tennis balls each is 6 tennis balls. 5 + 6 = 11. The answer is 11.\"},\n",
        "      {\"role\": \"user\", \"content\": \"The cafeteria had 23 apples. If they used 20 to make lunch and bought 6 more, how many apples do they have?\"}\n",
        "]\n",
        "\n",
        "outputs = pipe(cot_prompt)\n",
        "print(outputs[0]['generated_text'])"
      ]
    },
    {
      "cell_type": "markdown",
      "metadata": {
        "id": "CyaXQnjWmpCn"
      },
      "source": [
        "### Zero-shot chain-of-thought"
      ]
    },
    {
      "cell_type": "code",
      "execution_count": null,
      "metadata": {
        "colab": {
          "base_uri": "https://localhost:8080/"
        },
        "id": "pPYBNk4mmopo",
        "outputId": "3617b3fe-8df0-4289-9037-eb958a6053ec"
      },
      "outputs": [
        {
          "name": "stdout",
          "output_type": "stream",
          "text": [
            " Step 1: Start with the initial number of apples in the cafeteria, which is 23.\n",
            "\n",
            "Step 2: Subtract the number of apples used to make lunch, which is 20.\n",
            "23 - 20 = 3 apples remaining.\n",
            "\n",
            "Step 3: Add the number of apples bought, which is 6.\n",
            "3 + 6 = 9 apples.\n",
            "\n",
            "So, the cafeteria now has 9 apples.\n"
          ]
        }
      ],
      "source": [
        "zeroshot_cot_prompt = [\n",
        "    {\"role\": \"user\", \"content\": \"The cafeteria had 23 apples. If they used 20 to make lunch and bought 6 more, how many apples do they have? Let's think step-by-step.\"}\n",
        "]\n",
        "\n",
        "outputs = pipe(zeroshot_cot_prompt)\n",
        "print(outputs[0]['generated_text'])"
      ]
    },
    {
      "cell_type": "markdown",
      "metadata": {
        "id": "kG1dZdHNpxlx"
      },
      "source": [
        "## Tree-of-Thought"
      ]
    },
    {
      "cell_type": "code",
      "execution_count": null,
      "metadata": {
        "colab": {
          "base_uri": "https://localhost:8080/"
        },
        "id": "Gtd2aenmm5hn",
        "outputId": "dfbb200b-30b0-42b3-d793-40c24b685bca"
      },
      "outputs": [
        {
          "name": "stdout",
          "output_type": "stream",
          "text": [
            " Expert 1:\n",
            "Step 1: Start with the initial number of apples, which is 23.\n",
            "\n",
            "Expert 2:\n",
            "Step 1: Subtract the number of apples used for lunch, which is 20. This leaves us with 3 apples.\n",
            "Step 2: Add the number of apples bought, which is 6. This results in a total of 9 apples.\n",
            "\n",
            "Expert 3:\n",
            "Step 1: Begin with the initial number of apples, which is 23.\n",
            "Step 2: Subtract the number of apples used for lunch, which is 20. This leaves us with 3 apples.\n",
            "Step 3: Add the number of apples bought, which is 6. This results in a total of 9 apples.\n",
            "\n",
            "Discussion:\n",
            "All three experts arrived at the same answer, which is 9 apples. This indicates that their calculations were correct. The cafeteria started with 23 apples, used 20 for lunch, and then bought 6 more, resulting in a total of 9 apples.\n"
          ]
        }
      ],
      "source": [
        "zeroshot_tot_prompt = [\n",
        "    {\"role\": \"user\", \"content\": \"Imagine three different experts are answering this question. All experts will write down 1 step of their thinking, then share it with the group. Then all experts will go on to the next step, etc. If any expert realizes they're wrong at any point then they leave. The question is 'The cafeteria had 23 apples. If they used 20 to make lunch and bought 6 more, how many apples do they have?' Make sure to discuss the results.\"}\n",
        "]\n",
        "\n",
        "outputs = pipe(zeroshot_tot_prompt)\n",
        "print(outputs[0]['generated_text'])"
      ]
    },
    {
      "cell_type": "markdown",
      "metadata": {
        "id": "iCcuYyVk2BIo"
      },
      "source": [
        "## Output Verification"
      ]
    },
    {
      "cell_type": "code",
      "execution_count": null,
      "metadata": {
        "colab": {
          "base_uri": "https://localhost:8080/"
        },
        "id": "IgErGVsF2D0-",
        "outputId": "97fe6684-a189-400f-b27d-055716d8c380"
      },
      "outputs": [
        {
          "name": "stderr",
          "output_type": "stream",
          "text": [
            "You seem to be using the pipelines sequentially on GPU. In order to maximize efficiency please use a dataset\n"
          ]
        },
        {
          "name": "stdout",
          "output_type": "stream",
          "text": [
            " ```json\n",
            "\n",
            "{\n",
            "\n",
            "  \"character_name\": \"Aelar the Swift\",\n",
            "\n",
            "  \"class\": \"Rogue\",\n",
            "\n",
            "  \"level\": 1,\n",
            "\n",
            "  \"attributes\": {\n",
            "\n",
            "    \"strength\": 10,\n",
            "\n",
            "    \"dexterity\": 18,\n",
            "\n",
            "    \"constitution\": 12,\n",
            "\n",
            "    \"intelligence\": 14,\n",
            "\n",
            "    \"wisdom\": 13,\n",
            "\n",
            "    \"charisma\": 11\n",
            "\n",
            "  },\n",
            "\n",
            "  \"skills\": {\n",
            "\n",
            "    \"stealth\": 15,\n",
            "\n",
            "    \"lockpicking\": 14,\n",
            "\n",
            "    \"acrobatics\": 13,\n",
            "\n",
            "    \"perception\": 12\n",
            "\n",
            "  },\n",
            "\n",
            "  \"equipment\": {\n",
            "\n",
            "    \"weapon\": \"Dagger\",\n",
            "\n",
            "    \"armor\": \"Leather Armor\",\n",
            "\n",
            "    \"accessories\": [\"Gloves of Dexterity\", \"Boots of Speed\"]\n",
            "\n",
            "  },\n",
            "\n",
            "  \"background\": \"Aelar was born into a family of thieves. He learned the art of stealth and deception from a young age. He is always looking for the next big heist and is not afraid to take risks.\"\n",
            "\n",
            "}\n",
            "\n",
            "```\n"
          ]
        }
      ],
      "source": [
        "zeroshot_prompt = [\n",
        "    {\"role\": \"user\", \"content\": \"Create a character profile for an RPG game in JSON format\"}\n",
        "]\n",
        "\n",
        "outputs = pipe(zeroshot_prompt)\n",
        "print(outputs[0]['generated_text'])"
      ]
    },
    {
      "cell_type": "code",
      "execution_count": null,
      "metadata": {
        "colab": {
          "base_uri": "https://localhost:8080/"
        },
        "id": "WDX181i_4IkP",
        "outputId": "1236928a-dd48-4eb3-f684-b5e3d32e2585"
      },
      "outputs": [
        {
          "name": "stdout",
          "output_type": "stream",
          "text": [
            " {\n",
            "                  \"description\": \"A cunning rogue with a mysterious past, skilled in stealth and deception.\",\n",
            "                  \"name\": \"Lyra Shadowhand\",\n",
            "                  \"armor\": \"Leather Vest\",\n",
            "                  \"weapon\": \"Dagger, Crossbow\"\n",
            "                 }\n"
          ]
        }
      ],
      "source": [
        "one_shot_template = \"\"\"Create a short character profile for an RPG game. Make sure to only use this format:\n",
        "                    {\n",
        "                      \"description\": \"A SHORT DESCRIPTION\",\n",
        "                      \"name\": \"THE CHARACTER's NAME\",\n",
        "                      \"armor\": \"ONE PIECE OF ARMOR\",\n",
        "                      \"weapon\": \"ONE OR MORE WEAPONS\"\n",
        "                    }\n",
        "                    \"\"\"\n",
        "one_shot_prompt = [\n",
        "    {\"role\": \"user\", \"content\": one_shot_template}\n",
        "]\n",
        "\n",
        "outputs = pipe(one_shot_prompt)\n",
        "print(outputs[0]['generated_text'])\n"
      ]
    }
  ],
  "metadata": {
    "accelerator": "GPU",
    "colab": {
      "gpuType": "T4",
      "provenance": []
    },
    "kernelspec": {
      "display_name": "Python 3",
      "name": "python3"
    },
    "language_info": {
      "name": "python"
    },
    "widgets": {
      "application/vnd.jupyter.widget-state+json": {
        "00df37d23eeb471ca3a84d381b52e928": {
          "model_module": "@jupyter-widgets/controls",
          "model_module_version": "1.5.0",
          "model_name": "HTMLModel",
          "state": {
            "_dom_classes": [],
            "_model_module": "@jupyter-widgets/controls",
            "_model_module_version": "1.5.0",
            "_model_name": "HTMLModel",
            "_view_count": null,
            "_view_module": "@jupyter-widgets/controls",
            "_view_module_version": "1.5.0",
            "_view_name": "HTMLView",
            "description": "",
            "description_tooltip": null,
            "layout": "IPY_MODEL_358b82806e3642ef8553e40e68526d16",
            "placeholder": "​",
            "style": "IPY_MODEL_4679f5eea161494db6bc60aeedd94249",
            "value": ""
          }
        },
        "1f33432c37574f6081fac6704e49a908": {
          "model_module": "@jupyter-widgets/controls",
          "model_module_version": "1.5.0",
          "model_name": "DescriptionStyleModel",
          "state": {
            "_model_module": "@jupyter-widgets/controls",
            "_model_module_version": "1.5.0",
            "_model_name": "DescriptionStyleModel",
            "_view_count": null,
            "_view_module": "@jupyter-widgets/base",
            "_view_module_version": "1.2.0",
            "_view_name": "StyleView",
            "description_width": ""
          }
        },
        "2ddb7501f7724c78b02de9595f820605": {
          "model_module": "@jupyter-widgets/base",
          "model_module_version": "1.2.0",
          "model_name": "LayoutModel",
          "state": {
            "_model_module": "@jupyter-widgets/base",
            "_model_module_version": "1.2.0",
            "_model_name": "LayoutModel",
            "_view_count": null,
            "_view_module": "@jupyter-widgets/base",
            "_view_module_version": "1.2.0",
            "_view_name": "LayoutView",
            "align_content": null,
            "align_items": null,
            "align_self": null,
            "border": null,
            "bottom": null,
            "display": null,
            "flex": null,
            "flex_flow": null,
            "grid_area": null,
            "grid_auto_columns": null,
            "grid_auto_flow": null,
            "grid_auto_rows": null,
            "grid_column": null,
            "grid_gap": null,
            "grid_row": null,
            "grid_template_areas": null,
            "grid_template_columns": null,
            "grid_template_rows": null,
            "height": null,
            "justify_content": null,
            "justify_items": null,
            "left": null,
            "margin": null,
            "max_height": null,
            "max_width": null,
            "min_height": null,
            "min_width": null,
            "object_fit": null,
            "object_position": null,
            "order": null,
            "overflow": null,
            "overflow_x": null,
            "overflow_y": null,
            "padding": null,
            "right": null,
            "top": null,
            "visibility": null,
            "width": null
          }
        },
        "358b82806e3642ef8553e40e68526d16": {
          "model_module": "@jupyter-widgets/base",
          "model_module_version": "1.2.0",
          "model_name": "LayoutModel",
          "state": {
            "_model_module": "@jupyter-widgets/base",
            "_model_module_version": "1.2.0",
            "_model_name": "LayoutModel",
            "_view_count": null,
            "_view_module": "@jupyter-widgets/base",
            "_view_module_version": "1.2.0",
            "_view_name": "LayoutView",
            "align_content": null,
            "align_items": null,
            "align_self": null,
            "border": null,
            "bottom": null,
            "display": null,
            "flex": null,
            "flex_flow": null,
            "grid_area": null,
            "grid_auto_columns": null,
            "grid_auto_flow": null,
            "grid_auto_rows": null,
            "grid_column": null,
            "grid_gap": null,
            "grid_row": null,
            "grid_template_areas": null,
            "grid_template_columns": null,
            "grid_template_rows": null,
            "height": null,
            "justify_content": null,
            "justify_items": null,
            "left": null,
            "margin": null,
            "max_height": null,
            "max_width": null,
            "min_height": null,
            "min_width": null,
            "object_fit": null,
            "object_position": null,
            "order": null,
            "overflow": null,
            "overflow_x": null,
            "overflow_y": null,
            "padding": null,
            "right": null,
            "top": null,
            "visibility": null,
            "width": null
          }
        },
        "411ffacc23904ee592a5fd5c23dbf919": {
          "model_module": "@jupyter-widgets/controls",
          "model_module_version": "1.5.0",
          "model_name": "HBoxModel",
          "state": {
            "_dom_classes": [],
            "_model_module": "@jupyter-widgets/controls",
            "_model_module_version": "1.5.0",
            "_model_name": "HBoxModel",
            "_view_count": null,
            "_view_module": "@jupyter-widgets/controls",
            "_view_module_version": "1.5.0",
            "_view_name": "HBoxView",
            "box_style": "",
            "children": [
              "IPY_MODEL_aeb45e45ce474c4d9da45c1c80d7214b",
              "IPY_MODEL_503bb6c49ca747ac9385a80fd3950944",
              "IPY_MODEL_9a72ae35060b4c53b36aacee50f6d4a0"
            ],
            "layout": "IPY_MODEL_a5162cc2418e4981ba33fb236f1ac8b9"
          }
        },
        "4679f5eea161494db6bc60aeedd94249": {
          "model_module": "@jupyter-widgets/controls",
          "model_module_version": "1.5.0",
          "model_name": "DescriptionStyleModel",
          "state": {
            "_model_module": "@jupyter-widgets/controls",
            "_model_module_version": "1.5.0",
            "_model_name": "DescriptionStyleModel",
            "_view_count": null,
            "_view_module": "@jupyter-widgets/base",
            "_view_module_version": "1.2.0",
            "_view_name": "StyleView",
            "description_width": ""
          }
        },
        "4e8e850244ae437d85f5e209ac5bb5de": {
          "model_module": "@jupyter-widgets/base",
          "model_module_version": "1.2.0",
          "model_name": "LayoutModel",
          "state": {
            "_model_module": "@jupyter-widgets/base",
            "_model_module_version": "1.2.0",
            "_model_name": "LayoutModel",
            "_view_count": null,
            "_view_module": "@jupyter-widgets/base",
            "_view_module_version": "1.2.0",
            "_view_name": "LayoutView",
            "align_content": null,
            "align_items": null,
            "align_self": null,
            "border": null,
            "bottom": null,
            "display": null,
            "flex": null,
            "flex_flow": null,
            "grid_area": null,
            "grid_auto_columns": null,
            "grid_auto_flow": null,
            "grid_auto_rows": null,
            "grid_column": null,
            "grid_gap": null,
            "grid_row": null,
            "grid_template_areas": null,
            "grid_template_columns": null,
            "grid_template_rows": null,
            "height": null,
            "justify_content": null,
            "justify_items": null,
            "left": null,
            "margin": null,
            "max_height": null,
            "max_width": null,
            "min_height": null,
            "min_width": null,
            "object_fit": null,
            "object_position": null,
            "order": null,
            "overflow": null,
            "overflow_x": null,
            "overflow_y": null,
            "padding": null,
            "right": null,
            "top": null,
            "visibility": null,
            "width": null
          }
        },
        "503bb6c49ca747ac9385a80fd3950944": {
          "model_module": "@jupyter-widgets/controls",
          "model_module_version": "1.5.0",
          "model_name": "FloatProgressModel",
          "state": {
            "_dom_classes": [],
            "_model_module": "@jupyter-widgets/controls",
            "_model_module_version": "1.5.0",
            "_model_name": "FloatProgressModel",
            "_view_count": null,
            "_view_module": "@jupyter-widgets/controls",
            "_view_module_version": "1.5.0",
            "_view_name": "ProgressView",
            "bar_style": "success",
            "description": "",
            "description_tooltip": null,
            "layout": "IPY_MODEL_2ddb7501f7724c78b02de9595f820605",
            "max": 2,
            "min": 0,
            "orientation": "horizontal",
            "style": "IPY_MODEL_617b294b12ff4190ae30d2acebaf8650",
            "value": 2
          }
        },
        "617b294b12ff4190ae30d2acebaf8650": {
          "model_module": "@jupyter-widgets/controls",
          "model_module_version": "1.5.0",
          "model_name": "ProgressStyleModel",
          "state": {
            "_model_module": "@jupyter-widgets/controls",
            "_model_module_version": "1.5.0",
            "_model_name": "ProgressStyleModel",
            "_view_count": null,
            "_view_module": "@jupyter-widgets/base",
            "_view_module_version": "1.2.0",
            "_view_name": "StyleView",
            "bar_color": null,
            "description_width": ""
          }
        },
        "778638fa45e54d7c88c7688f7013d9da": {
          "model_module": "@jupyter-widgets/base",
          "model_module_version": "1.2.0",
          "model_name": "LayoutModel",
          "state": {
            "_model_module": "@jupyter-widgets/base",
            "_model_module_version": "1.2.0",
            "_model_name": "LayoutModel",
            "_view_count": null,
            "_view_module": "@jupyter-widgets/base",
            "_view_module_version": "1.2.0",
            "_view_name": "LayoutView",
            "align_content": null,
            "align_items": null,
            "align_self": null,
            "border": null,
            "bottom": null,
            "display": null,
            "flex": null,
            "flex_flow": null,
            "grid_area": null,
            "grid_auto_columns": null,
            "grid_auto_flow": null,
            "grid_auto_rows": null,
            "grid_column": null,
            "grid_gap": null,
            "grid_row": null,
            "grid_template_areas": null,
            "grid_template_columns": null,
            "grid_template_rows": null,
            "height": null,
            "justify_content": null,
            "justify_items": null,
            "left": null,
            "margin": null,
            "max_height": null,
            "max_width": null,
            "min_height": null,
            "min_width": null,
            "object_fit": null,
            "object_position": null,
            "order": null,
            "overflow": null,
            "overflow_x": null,
            "overflow_y": null,
            "padding": null,
            "right": null,
            "top": null,
            "visibility": null,
            "width": "20px"
          }
        },
        "799e29bc14364b278d6ffd01ed2af831": {
          "model_module": "@jupyter-widgets/controls",
          "model_module_version": "1.5.0",
          "model_name": "FloatProgressModel",
          "state": {
            "_dom_classes": [],
            "_model_module": "@jupyter-widgets/controls",
            "_model_module_version": "1.5.0",
            "_model_name": "FloatProgressModel",
            "_view_count": null,
            "_view_module": "@jupyter-widgets/controls",
            "_view_module_version": "1.5.0",
            "_view_name": "ProgressView",
            "bar_style": "success",
            "description": "",
            "description_tooltip": null,
            "layout": "IPY_MODEL_778638fa45e54d7c88c7688f7013d9da",
            "max": 1,
            "min": 0,
            "orientation": "horizontal",
            "style": "IPY_MODEL_998d81fcedd345eaa3932b3accc69efd",
            "value": 0
          }
        },
        "881b1611fdde4a75bac2427bf968c988": {
          "model_module": "@jupyter-widgets/base",
          "model_module_version": "1.2.0",
          "model_name": "LayoutModel",
          "state": {
            "_model_module": "@jupyter-widgets/base",
            "_model_module_version": "1.2.0",
            "_model_name": "LayoutModel",
            "_view_count": null,
            "_view_module": "@jupyter-widgets/base",
            "_view_module_version": "1.2.0",
            "_view_name": "LayoutView",
            "align_content": null,
            "align_items": null,
            "align_self": null,
            "border": null,
            "bottom": null,
            "display": null,
            "flex": null,
            "flex_flow": null,
            "grid_area": null,
            "grid_auto_columns": null,
            "grid_auto_flow": null,
            "grid_auto_rows": null,
            "grid_column": null,
            "grid_gap": null,
            "grid_row": null,
            "grid_template_areas": null,
            "grid_template_columns": null,
            "grid_template_rows": null,
            "height": null,
            "justify_content": null,
            "justify_items": null,
            "left": null,
            "margin": null,
            "max_height": null,
            "max_width": null,
            "min_height": null,
            "min_width": null,
            "object_fit": null,
            "object_position": null,
            "order": null,
            "overflow": null,
            "overflow_x": null,
            "overflow_y": null,
            "padding": null,
            "right": null,
            "top": null,
            "visibility": null,
            "width": null
          }
        },
        "894cc1eb382f46e1acf0a5ac94dc80bd": {
          "model_module": "@jupyter-widgets/controls",
          "model_module_version": "1.5.0",
          "model_name": "DescriptionStyleModel",
          "state": {
            "_model_module": "@jupyter-widgets/controls",
            "_model_module_version": "1.5.0",
            "_model_name": "DescriptionStyleModel",
            "_view_count": null,
            "_view_module": "@jupyter-widgets/base",
            "_view_module_version": "1.2.0",
            "_view_name": "StyleView",
            "description_width": ""
          }
        },
        "998d81fcedd345eaa3932b3accc69efd": {
          "model_module": "@jupyter-widgets/controls",
          "model_module_version": "1.5.0",
          "model_name": "ProgressStyleModel",
          "state": {
            "_model_module": "@jupyter-widgets/controls",
            "_model_module_version": "1.5.0",
            "_model_name": "ProgressStyleModel",
            "_view_count": null,
            "_view_module": "@jupyter-widgets/base",
            "_view_module_version": "1.2.0",
            "_view_name": "StyleView",
            "bar_color": null,
            "description_width": ""
          }
        },
        "9a72ae35060b4c53b36aacee50f6d4a0": {
          "model_module": "@jupyter-widgets/controls",
          "model_module_version": "1.5.0",
          "model_name": "HTMLModel",
          "state": {
            "_dom_classes": [],
            "_model_module": "@jupyter-widgets/controls",
            "_model_module_version": "1.5.0",
            "_model_name": "HTMLModel",
            "_view_count": null,
            "_view_module": "@jupyter-widgets/controls",
            "_view_module_version": "1.5.0",
            "_view_name": "HTMLView",
            "description": "",
            "description_tooltip": null,
            "layout": "IPY_MODEL_a5c1a148cc2249a6b9b66fe437df3379",
            "placeholder": "​",
            "style": "IPY_MODEL_894cc1eb382f46e1acf0a5ac94dc80bd",
            "value": " 2/2 [00:01&lt;00:00,  1.50it/s]"
          }
        },
        "a5162cc2418e4981ba33fb236f1ac8b9": {
          "model_module": "@jupyter-widgets/base",
          "model_module_version": "1.2.0",
          "model_name": "LayoutModel",
          "state": {
            "_model_module": "@jupyter-widgets/base",
            "_model_module_version": "1.2.0",
            "_model_name": "LayoutModel",
            "_view_count": null,
            "_view_module": "@jupyter-widgets/base",
            "_view_module_version": "1.2.0",
            "_view_name": "LayoutView",
            "align_content": null,
            "align_items": null,
            "align_self": null,
            "border": null,
            "bottom": null,
            "display": null,
            "flex": null,
            "flex_flow": null,
            "grid_area": null,
            "grid_auto_columns": null,
            "grid_auto_flow": null,
            "grid_auto_rows": null,
            "grid_column": null,
            "grid_gap": null,
            "grid_row": null,
            "grid_template_areas": null,
            "grid_template_columns": null,
            "grid_template_rows": null,
            "height": null,
            "justify_content": null,
            "justify_items": null,
            "left": null,
            "margin": null,
            "max_height": null,
            "max_width": null,
            "min_height": null,
            "min_width": null,
            "object_fit": null,
            "object_position": null,
            "order": null,
            "overflow": null,
            "overflow_x": null,
            "overflow_y": null,
            "padding": null,
            "right": null,
            "top": null,
            "visibility": null,
            "width": null
          }
        },
        "a5c1a148cc2249a6b9b66fe437df3379": {
          "model_module": "@jupyter-widgets/base",
          "model_module_version": "1.2.0",
          "model_name": "LayoutModel",
          "state": {
            "_model_module": "@jupyter-widgets/base",
            "_model_module_version": "1.2.0",
            "_model_name": "LayoutModel",
            "_view_count": null,
            "_view_module": "@jupyter-widgets/base",
            "_view_module_version": "1.2.0",
            "_view_name": "LayoutView",
            "align_content": null,
            "align_items": null,
            "align_self": null,
            "border": null,
            "bottom": null,
            "display": null,
            "flex": null,
            "flex_flow": null,
            "grid_area": null,
            "grid_auto_columns": null,
            "grid_auto_flow": null,
            "grid_auto_rows": null,
            "grid_column": null,
            "grid_gap": null,
            "grid_row": null,
            "grid_template_areas": null,
            "grid_template_columns": null,
            "grid_template_rows": null,
            "height": null,
            "justify_content": null,
            "justify_items": null,
            "left": null,
            "margin": null,
            "max_height": null,
            "max_width": null,
            "min_height": null,
            "min_width": null,
            "object_fit": null,
            "object_position": null,
            "order": null,
            "overflow": null,
            "overflow_x": null,
            "overflow_y": null,
            "padding": null,
            "right": null,
            "top": null,
            "visibility": null,
            "width": null
          }
        },
        "aeb45e45ce474c4d9da45c1c80d7214b": {
          "model_module": "@jupyter-widgets/controls",
          "model_module_version": "1.5.0",
          "model_name": "HTMLModel",
          "state": {
            "_dom_classes": [],
            "_model_module": "@jupyter-widgets/controls",
            "_model_module_version": "1.5.0",
            "_model_name": "HTMLModel",
            "_view_count": null,
            "_view_module": "@jupyter-widgets/controls",
            "_view_module_version": "1.5.0",
            "_view_name": "HTMLView",
            "description": "",
            "description_tooltip": null,
            "layout": "IPY_MODEL_881b1611fdde4a75bac2427bf968c988",
            "placeholder": "​",
            "style": "IPY_MODEL_1f33432c37574f6081fac6704e49a908",
            "value": "Loading checkpoint shards: 100%"
          }
        },
        "eb6fdf2bbaf34aabb42635e712cdbf94": {
          "model_module": "@jupyter-widgets/base",
          "model_module_version": "1.2.0",
          "model_name": "LayoutModel",
          "state": {
            "_model_module": "@jupyter-widgets/base",
            "_model_module_version": "1.2.0",
            "_model_name": "LayoutModel",
            "_view_count": null,
            "_view_module": "@jupyter-widgets/base",
            "_view_module_version": "1.2.0",
            "_view_name": "LayoutView",
            "align_content": null,
            "align_items": null,
            "align_self": null,
            "border": null,
            "bottom": null,
            "display": null,
            "flex": null,
            "flex_flow": null,
            "grid_area": null,
            "grid_auto_columns": null,
            "grid_auto_flow": null,
            "grid_auto_rows": null,
            "grid_column": null,
            "grid_gap": null,
            "grid_row": null,
            "grid_template_areas": null,
            "grid_template_columns": null,
            "grid_template_rows": null,
            "height": null,
            "justify_content": null,
            "justify_items": null,
            "left": null,
            "margin": null,
            "max_height": null,
            "max_width": null,
            "min_height": null,
            "min_width": null,
            "object_fit": null,
            "object_position": null,
            "order": null,
            "overflow": null,
            "overflow_x": null,
            "overflow_y": null,
            "padding": null,
            "right": null,
            "top": null,
            "visibility": null,
            "width": null
          }
        },
        "ee3015d1c3ff4944ac60d407a2905358": {
          "model_module": "@jupyter-widgets/controls",
          "model_module_version": "1.5.0",
          "model_name": "HBoxModel",
          "state": {
            "_dom_classes": [],
            "_model_module": "@jupyter-widgets/controls",
            "_model_module_version": "1.5.0",
            "_model_name": "HBoxModel",
            "_view_count": null,
            "_view_module": "@jupyter-widgets/controls",
            "_view_module_version": "1.5.0",
            "_view_name": "HBoxView",
            "box_style": "",
            "children": [
              "IPY_MODEL_00df37d23eeb471ca3a84d381b52e928",
              "IPY_MODEL_799e29bc14364b278d6ffd01ed2af831",
              "IPY_MODEL_f126bbb4a52a4df3b7094c334fce8e46"
            ],
            "layout": "IPY_MODEL_4e8e850244ae437d85f5e209ac5bb5de"
          }
        },
        "f126bbb4a52a4df3b7094c334fce8e46": {
          "model_module": "@jupyter-widgets/controls",
          "model_module_version": "1.5.0",
          "model_name": "HTMLModel",
          "state": {
            "_dom_classes": [],
            "_model_module": "@jupyter-widgets/controls",
            "_model_module_version": "1.5.0",
            "_model_name": "HTMLModel",
            "_view_count": null,
            "_view_module": "@jupyter-widgets/controls",
            "_view_module_version": "1.5.0",
            "_view_name": "HTMLView",
            "description": "",
            "description_tooltip": null,
            "layout": "IPY_MODEL_eb6fdf2bbaf34aabb42635e712cdbf94",
            "placeholder": "​",
            "style": "IPY_MODEL_f70469f6feee43358edb4612eb21b533",
            "value": " 0/0 [00:00&lt;?, ?it/s]"
          }
        },
        "f70469f6feee43358edb4612eb21b533": {
          "model_module": "@jupyter-widgets/controls",
          "model_module_version": "1.5.0",
          "model_name": "DescriptionStyleModel",
          "state": {
            "_model_module": "@jupyter-widgets/controls",
            "_model_module_version": "1.5.0",
            "_model_name": "DescriptionStyleModel",
            "_view_count": null,
            "_view_module": "@jupyter-widgets/base",
            "_view_module_version": "1.2.0",
            "_view_name": "StyleView",
            "description_width": ""
          }
        }
      }
    }
  },
  "nbformat": 4,
  "nbformat_minor": 0
}
